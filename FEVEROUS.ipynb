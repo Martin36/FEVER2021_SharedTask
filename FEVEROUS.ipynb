{
 "cells": [
  {
   "cell_type": "code",
   "execution_count": 1,
   "id": "4e36c202",
   "metadata": {},
   "outputs": [],
   "source": [
    "import sys\n",
    "import jsonlines\n",
    "import os\n",
    "import pprint\n",
    "import time\n",
    "import random\n",
    "import re\n",
    "\n",
    "pp = pprint.PrettyPrinter()\n",
    "sys.path.insert(0, \"e:\\\\Documents\\\\NLP\\\\FEVER2021_SharedTask\\\\FEVEROUS\\\\src\")\n",
    "\n",
    "DIR_PATH = \"e:\\\\Documents\\\\NLP\\\\FEVER2021_SharedTask\\\\\"\n",
    "TRAIN_DATA_PATH = os.path.join(DIR_PATH, 'data\\\\train.jsonl')\n",
    "\n",
    "from database.feverous_db import FeverousDB\n",
    "from utils.wiki_page import WikiPage"
   ]
  },
  {
   "cell_type": "markdown",
   "id": "53cc36b9",
   "metadata": {},
   "source": [
    "### Import data"
   ]
  },
  {
   "cell_type": "code",
   "execution_count": 2,
   "id": "466d4c75",
   "metadata": {},
   "outputs": [],
   "source": [
    "db = FeverousDB(\"C:/Databases/feverous_wikiv1.db\")"
   ]
  },
  {
   "cell_type": "markdown",
   "id": "7f9ff17c",
   "metadata": {},
   "source": [
    "#### Training data"
   ]
  },
  {
   "cell_type": "code",
   "execution_count": 26,
   "id": "552d39af",
   "metadata": {},
   "outputs": [],
   "source": [
    "train_data = []\n",
    "with jsonlines.open(TRAIN_DATA_PATH) as reader:\n",
    "    for i, doc in enumerate(reader):\n",
    "        train_data.append(doc)"
   ]
  },
  {
   "cell_type": "code",
   "execution_count": null,
   "id": "4f17aa26",
   "metadata": {},
   "outputs": [],
   "source": [
    "train_example = train_data[0]\n",
    "evidence = train_example['evidence']\n",
    "PAGE_NAME = \"Tammy Garcia\"\n",
    "page_json = db.get_doc_json(PAGE_NAME)\n",
    "wiki_page = WikiPage(PAGE_NAME, page_json)\n",
    "\n",
    "def get_sent_evidence(train_json):    \n",
    "    for e in evidence:\n",
    "        sent_ids = []\n",
    "        content = e['content']\n",
    "        for c in content:\n",
    "            sent_id = c.replace(PAGE_NAME + \"_\", \"\")\n",
    "            sent_ids.append(sent_id)\n",
    "\n",
    "    sentences = wiki_page.get_sentences()\n",
    "    content_text = \"\"\n",
    "    for sent_id in sent_ids:\n",
    "        for sent in sentences:\n",
    "            if sent.name == sent_id:\n",
    "                content_text += sent.content + \" \"\n",
    "                break\n",
    "\n",
    "print(content_text)"
   ]
  },
  {
   "cell_type": "code",
   "execution_count": 3,
   "id": "b5f16d0f",
   "metadata": {},
   "outputs": [
    {
     "name": "stdout",
     "output_type": "stream",
     "text": [
      "Nr of docs: 5421406 took 12.55490756034851 seconds to fetch\n"
     ]
    }
   ],
   "source": [
    "start_time = time.time()\n",
    "doc_ids = db.get_doc_ids()\n",
    "print(\"Nr of docs: {} took {} seconds to fetch\".format(len(doc_ids), time.time()-start_time))"
   ]
  },
  {
   "cell_type": "code",
   "execution_count": null,
   "id": "d6c35a8e",
   "metadata": {},
   "outputs": [],
   "source": [
    "page = WikiPage(doc_ids[1], example_json)\n",
    "sents = [sent.content for sent in page.get_sentences()]\n",
    "print(sents)"
   ]
  },
  {
   "cell_type": "code",
   "execution_count": 4,
   "id": "65789d09",
   "metadata": {},
   "outputs": [],
   "source": [
    "def replace_entities(sent):\n",
    "    regex = r'\\[\\[([^\\|]+)\\|([^\\]]+)\\]\\]'\n",
    "    return re.sub(regex, '\\\\2', sent)\n",
    "  \n",
    "def remove_punctuation(sent):\n",
    "    if sent[-1] == '.':\n",
    "        return sent[:-1]\n",
    "    else:\n",
    "        return sent\n",
    "\n",
    "def extract_sents(doc_json):\n",
    "    page = WikiPage(doc_json['title'], doc_json)\n",
    "    sents = [replace_entities(sent.content) for sent in page.get_sentences()]\n",
    "    sents = [sent.lower() for sent in sents]\n",
    "    # sents = [remove_punctuation(sent) for sent in sents]\n",
    "    return sents"
   ]
  },
  {
   "cell_type": "code",
   "execution_count": 5,
   "id": "4f65e073",
   "metadata": {},
   "outputs": [],
   "source": [
    "SAMPLE_SIZE = 100000\n",
    "sample_doc_ids = random.sample(doc_ids, SAMPLE_SIZE)"
   ]
  },
  {
   "cell_type": "code",
   "execution_count": null,
   "id": "aa46ec38",
   "metadata": {},
   "outputs": [],
   "source": [
    "json_docs = db.get_doc_jsons(sample_doc_ids[:10])"
   ]
  },
  {
   "cell_type": "code",
   "execution_count": null,
   "id": "e5318e04",
   "metadata": {},
   "outputs": [],
   "source": [
    "from tqdm import tqdm\n",
    "from numba import jit, cuda\n",
    "from timeit import default_timer as timer   \n",
    "\n",
    "sample_docs = dict()\n",
    "\n",
    "def create_sample_docs_cpu():\n",
    "    for i in sample_doc_ids:\n",
    "        doc = db.get_doc_json(i)\n",
    "        sents = extract_sents(doc)\n",
    "        doc_text = ' '.join(sents)\n",
    "        sample_docs[i] = doc_text\n",
    "        \n",
    "@jit\n",
    "def create_sample_docs_gpu():\n",
    "    for i in sample_doc_ids:\n",
    "        doc = db.get_doc_json(i)\n",
    "        sents = extract_sents(doc)\n",
    "        doc_text = ' '.join(sents)\n",
    "        sample_docs[i] = doc_text\n",
    "\n",
    "start_time = time.time()\n",
    "create_sample_docs_cpu()\n",
    "print(\"Creating {} sample docs on single thread: {} seconds\".format(SAMPLE_SIZE, time.time()-start_time))    \n",
    "\n",
    "# start = timer()\n",
    "# create_sample_docs_gpu()\n",
    "# print(\"with GPU:\", timer()-start)"
   ]
  },
  {
   "cell_type": "code",
   "execution_count": 16,
   "id": "4e162677",
   "metadata": {},
   "outputs": [],
   "source": [
    "def create_sample_docs(ids):\n",
    "    json_docs = db.get_doc_jsons(ids)\n",
    "    curr_sample_docs = dict()\n",
    "    for doc in json_docs:\n",
    "        sents = extract_sents(doc)\n",
    "        doc_text = ' '.join(sents)\n",
    "        curr_sample_docs[doc['title']] = doc_text\n",
    "    return curr_sample_docs"
   ]
  },
  {
   "cell_type": "markdown",
   "id": "84281c6d",
   "metadata": {},
   "source": [
    "### Create sample docs using multiple threads"
   ]
  },
  {
   "cell_type": "code",
   "execution_count": 6,
   "id": "cf82952f",
   "metadata": {},
   "outputs": [
    {
     "name": "stdout",
     "output_type": "stream",
     "text": [
      "Creating 100000 sample docs with 1 threads: 100.90237498283386 seconds\n"
     ]
    }
   ],
   "source": [
    "import concurrent.futures\n",
    "import time\n",
    "\n",
    "\n",
    "NR_OF_THREADS = 1\n",
    "\n",
    "with concurrent.futures.ThreadPoolExecutor() as executor:\n",
    "    thread_samples = int(SAMPLE_SIZE / NR_OF_THREADS)\n",
    "    start_time = time.time()\n",
    "    futures = []\n",
    "    for i in range(NR_OF_THREADS):\n",
    "        start = thread_samples*i\n",
    "        ids = sample_doc_ids[start:start+thread_samples]\n",
    "        futures.append(executor.submit(create_sample_docs, ids))\n",
    "\n",
    "sample_docs = dict()\n",
    "\n",
    "for f in futures:\n",
    "    sample_docs.update(f.result())\n",
    "\n",
    "print(\"Creating {} sample docs with {} threads: {} seconds\".format(SAMPLE_SIZE, NR_OF_THREADS, time.time()-start_time))    "
   ]
  },
  {
   "cell_type": "markdown",
   "id": "d46f0ce3",
   "metadata": {},
   "source": [
    "### Create sample docs on a single thread"
   ]
  },
  {
   "cell_type": "code",
   "execution_count": 17,
   "id": "e0ed11c8",
   "metadata": {},
   "outputs": [
    {
     "name": "stdout",
     "output_type": "stream",
     "text": [
      "Creating 100000 sample docs: 58.31147503852844 seconds\n"
     ]
    }
   ],
   "source": [
    "start_time = time.time()\n",
    "sample_docs = create_sample_docs(sample_doc_ids)\n",
    "print(\"Creating {} sample docs: {} seconds\".format(SAMPLE_SIZE, time.time()-start_time))    "
   ]
  },
  {
   "cell_type": "code",
   "execution_count": 7,
   "id": "ab9a4692",
   "metadata": {},
   "outputs": [
    {
     "data": {
      "text/plain": [
       "5"
      ]
     },
     "execution_count": 7,
     "metadata": {},
     "output_type": "execute_result"
    }
   ],
   "source": [
    "import threading\n",
    "threading.active_count()"
   ]
  },
  {
   "cell_type": "code",
   "execution_count": 20,
   "id": "0f020637",
   "metadata": {},
   "outputs": [
    {
     "data": {
      "text/plain": [
       "['\"Everything For the Country\" Party',\n",
       " '\"Ode-to-Napoleon\" hexachord',\n",
       " '\"Weird Al\" Yankovic\\'s Greatest Hits',\n",
       " \"'77\",\n",
       " \"'A' Is for A-l-i-v-e\",\n",
       " \"'A'akapa\",\n",
       " \"'Abd al-Majid Nimer Zaghmout\",\n",
       " \"'Matšepo Ramakoae\",\n",
       " \"'Neath Canadian Skies\",\n",
       " \"'Round Springfield\"]"
      ]
     },
     "execution_count": 20,
     "metadata": {},
     "output_type": "execute_result"
    }
   ],
   "source": [
    "list(sample_docs.keys())[:10]"
   ]
  },
  {
   "cell_type": "code",
   "execution_count": null,
   "id": "e3f93370",
   "metadata": {},
   "outputs": [],
   "source": [
    "for i, key in enumerate(sample_docs):\n",
    "    if i >= 5:\n",
    "        break\n",
    "    print(sample_docs[key])"
   ]
  },
  {
   "cell_type": "code",
   "execution_count": 21,
   "id": "107ff0cb",
   "metadata": {},
   "outputs": [
    {
     "name": "stdout",
     "output_type": "stream",
     "text": [
      "--- 25.735156536102295 seconds ---\n"
     ]
    }
   ],
   "source": [
    "import pandas as pd\n",
    "from sklearn.feature_extraction.text import TfidfVectorizer\n",
    "\n",
    "tfidfvectorizer = TfidfVectorizer(analyzer='word',stop_words='english')\n",
    "\n",
    "start_time = time.time()\n",
    "tfidf_wm = tfidfvectorizer.fit_transform(sample_docs.values())\n",
    "print(\"--- %s seconds ---\" % (time.time() - start_time))\n",
    "\n",
    "# tfidf_tokens = tfidfvectorizer.get_feature_names()\n",
    "\n",
    "# df_tfidfvect = pd.DataFrame(data=tfidf_wm.toarray(), columns=tfidf_tokens, index=sample_docs.keys())"
   ]
  },
  {
   "cell_type": "code",
   "execution_count": 22,
   "id": "5e0dfbf1",
   "metadata": {},
   "outputs": [
    {
     "data": {
      "text/plain": [
       "534896"
      ]
     },
     "execution_count": 22,
     "metadata": {},
     "output_type": "execute_result"
    }
   ],
   "source": [
    "len(tfidfvectorizer.get_feature_names())"
   ]
  },
  {
   "cell_type": "code",
   "execution_count": 23,
   "id": "d6d19feb",
   "metadata": {},
   "outputs": [
    {
     "data": {
      "text/plain": [
       "(100000, 534896)"
      ]
     },
     "execution_count": 23,
     "metadata": {},
     "output_type": "execute_result"
    }
   ],
   "source": [
    "tfidf_wm.shape"
   ]
  },
  {
   "cell_type": "code",
   "execution_count": 25,
   "id": "33aa326e",
   "metadata": {},
   "outputs": [
    {
     "data": {
      "text/plain": [
       "5242968"
      ]
     },
     "execution_count": 25,
     "metadata": {},
     "output_type": "execute_result"
    }
   ],
   "source": [
    "sys.getsizeof(sample_docs)"
   ]
  },
  {
   "cell_type": "code",
   "execution_count": 28,
   "id": "219b04b7",
   "metadata": {},
   "outputs": [
    {
     "data": {
      "text/plain": [
       "'Tammy Garcia was born in California but currently lives in Taos, she comes from a long line of Santa Clara Pueblo artists and her great-great-great grandmother Sara Fina Tafoya was a potter.'"
      ]
     },
     "execution_count": 28,
     "metadata": {},
     "output_type": "execute_result"
    }
   ],
   "source": [
    "train_data[0]['claim']"
   ]
  },
  {
   "cell_type": "code",
   "execution_count": 29,
   "id": "0c779183",
   "metadata": {},
   "outputs": [
    {
     "name": "stdout",
     "output_type": "stream",
     "text": [
      "[0.         0.         0.00693897 ... 0.         0.         0.        ]\n"
     ]
    }
   ],
   "source": [
    "from sklearn.metrics.pairwise import cosine_similarity\n",
    "\n",
    "test_query = train_data[0]['claim']\n",
    "query_tfidf = tfidfvectorizer.transform([test_query])\n",
    "cosine_similarities = cosine_similarity(query_tfidf, tfidf_wm).flatten()\n",
    "print(cosine_similarities)"
   ]
  },
  {
   "cell_type": "code",
   "execution_count": 38,
   "id": "21174eed",
   "metadata": {},
   "outputs": [
    {
     "data": {
      "text/plain": [
       "array([59183, 87540, 37748, 14786, 37745], dtype=int64)"
      ]
     },
     "execution_count": 38,
     "metadata": {},
     "output_type": "execute_result"
    }
   ],
   "source": [
    "related_docs_indices = cosine_similarities.argsort()[:-6:-1]\n",
    "related_docs_indices"
   ]
  },
  {
   "cell_type": "code",
   "execution_count": 45,
   "id": "737f426d",
   "metadata": {},
   "outputs": [
    {
     "data": {
      "text/plain": [
       "'Margaret Tafoya'"
      ]
     },
     "execution_count": 45,
     "metadata": {},
     "output_type": "execute_result"
    }
   ],
   "source": [
    "list(sample_docs.keys())[59183]"
   ]
  },
  {
   "cell_type": "code",
   "execution_count": 46,
   "id": "bdcd2d90",
   "metadata": {},
   "outputs": [
    {
     "data": {
      "text/plain": [
       "'maria margarita \"margaret\" tafoya (tewa name: corn blossom; august 13, 1904 – february 25, 2001) was the matriarch of santa clara pueblo potters. she was a recipient of a 1984 national heritage fellowship awarded by the national endowment for the arts, which is the united states government\\'s highest honor in the folk and traditional arts. margaret was the daughter of sara fina (sometimes spelled serafina) guiterrez tafoya (1863–1949) and jose geronimo tafoya (1863–1955). she attended the santa clara pueblo elementary school, and then the santa fe indian school from 1915 to 1918. she had to drop out of high school to help her family during the flu pandemic of 1918. margaret learned the art of making pottery from her parents, and was particularly influenced by her mother. sara fina was considered the leading potter of santa clara in her day, as the master of making exceptionally large, finely polished blackware. she also occasionally made redware, micaceous clay storage jars and other smaller utilitarian forms. margaret\\'s father was primarily concerned with raising food for the family but he was also known to make pottery and helped sara fina with many aspects of her pottery production. as a child, tafoya started making small animals out of the clay that her parents had extracted from the santa clara land for sara fina\\'s works. showing promise, her mother encouraged young margaret to make her own pottery and taught her how to knead the clay and polish shaped pots, as well as where to gather fuel for the firing process. sara fina allowed margaret to sell her first pottery to a dealer in santa fe, although margaret did not recall how much money she made that day. but the act of selling her work gave her confidence to continue making pottery. for several years, margaret worked as a cook and a waitress before she married alcario tafoya (1900–1995) in 1924. alcario, a distant relative with the same last name, and margaret worked together making pottery just as her mother and father had done. margaret and sara fina\\'s husbands both helped with the tasks of digging and preparing the clay and the firing of the pots. alcario also helped margaret with the creation and carving of designs on her pots. early in her career, margaret often traded pottery for children\\'s clothing or other household necessities to support her growing family. in the 1930s and 1940s, the tafoyas would frequently load margaret\\'s pots into a horse-drawn wagon and travel hundreds of miles to santa fe and taos to sell the works to tourists and traders. tafoya also began selling her works at indian art fairs such as the santa fe indian market and the inter-tribal ceremonial at gallup. in the 1950s, as interest in native american art grew, the public would travel to the pueblos as tourists as well as to buy artistic goods, so the family didn\\'t have to travel as far to sell their wares. during this time period, the tafoyas befriended the owner of a resort in royal gorge, colorado who hired them for summer residencies to perform ceremonial dances and sell their pottery to guests. by the 1960s margaret\\'s pottery had become famous, particularly her large black jars. margaret continued her mother\\'s tradition of making these exceptionally large pots, with finely polished surfaces and simple carved designs. \"measuring as high as three feet, these vessels took months to mold and polish. they also required an enormous amount of technical skill, particularly to keep them from breaking while being fired\". the labor-intensive techniques meant that tafoya usually made only one large pot per year. her \"bear paw\" motif and deeply carved pueblo symbols like the avanyu (water serpent) and kiva steps around the shoulder of her jars have become signature trademarks of the tafoya family pottery. like her mother, margaret molded her pots using the traditional coiling method. \"this method and many of the techniques used in the production of her pottery has been dated as being as more than 1200 years old, with the ancient \"anasazi\" of the colorado plateau being the founding culture. a common misconception was the belief that black on black, burnished pueblo pottery had \"died out,\" according to larry frank and francis h. harlow. \"in reality, the nearby inhabitants of santa clara pueblo were still producing the highly burnished, black on black pottery, since the 1600s, therefore lending to the revival of the san ildefonso style of black on black \"painted\" pottery. the only difference between the two pueblo\\'s styles is that in santa clara, pots are deeply carved and incised, whereas, in san ildefonso, the pottery is generally not carved and painted with pigments to cause un-polished designs on a polished surface.\" in the early 20th century, as maria martinez was developing the san ildefonso style of traditional pottery, it was well known that she in fact learned various polishing (burnishing) techniques from margaret tafoya, as well as how to turn any color of clay black, by simply smothering the fire with manure. tafoya\\'s work \"reflected the transformation of the santa clara pottery tradition from the utilitarian to the artistic\". margaret and her husband alcario raised thirteen children. at the time of her death in february 2001, margaret had 30 grandchildren, 45 great-grandchildren, and 11 great-great-grandchildren. many of her descendants are carrying on the tafoya family tradition of pottery making, including: toni roller, jeff roller, luann tafoya, chris youngblood, nancy youngblood, nathan youngblood, darryl whitegeese, ryan roller, cliff roller, tim roller, tyler roller, jordan roller, james ebelacker, sarena ebelacker, jamelyn ebelacker, and tammy garcia.'"
      ]
     },
     "execution_count": 46,
     "metadata": {},
     "output_type": "execute_result"
    }
   ],
   "source": [
    "sample_docs['Margaret Tafoya']"
   ]
  },
  {
   "cell_type": "code",
   "execution_count": 36,
   "id": "e9a52d2e",
   "metadata": {},
   "outputs": [
    {
     "data": {
      "text/plain": [
       "[array(['0000', '00005', '000110000', ..., 'cingulo', 'cingulopsidae',\n",
       "        'cinhil'], dtype='<U85')]"
      ]
     },
     "execution_count": 36,
     "metadata": {},
     "output_type": "execute_result"
    }
   ],
   "source": [
    "tfidfvectorizer.inverse_transform(cosine_similarities.reshape(1,-1))"
   ]
  }
 ],
 "metadata": {
  "kernelspec": {
   "display_name": "Python 3",
   "language": "python",
   "name": "python3"
  },
  "language_info": {
   "codemirror_mode": {
    "name": "ipython",
    "version": 3
   },
   "file_extension": ".py",
   "mimetype": "text/x-python",
   "name": "python",
   "nbconvert_exporter": "python",
   "pygments_lexer": "ipython3",
   "version": "3.8.8"
  }
 },
 "nbformat": 4,
 "nbformat_minor": 5
}
